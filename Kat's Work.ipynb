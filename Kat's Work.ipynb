{
 "cells": [
  {
   "cell_type": "code",
   "execution_count": 20,
   "metadata": {},
   "outputs": [],
   "source": [
    "from IPython.core.interactiveshell import InteractiveShell\n",
    "InteractiveShell.ast_node_interactivity = \"all\""
   ]
  },
  {
   "cell_type": "code",
   "execution_count": 4,
   "metadata": {},
   "outputs": [
    {
     "name": "stdout",
     "output_type": "stream",
     "text": [
      "12\n"
     ]
    }
   ],
   "source": [
    "numbers = [12, 45, 34, 45]\n",
    "print(numbers[0])\n",
    "# index starts at 0"
   ]
  },
  {
   "cell_type": "code",
   "execution_count": 12,
   "metadata": {},
   "outputs": [
    {
     "name": "stdout",
     "output_type": "stream",
     "text": [
      "68\n"
     ]
    }
   ],
   "source": [
    "numbers = [12, 45, 34, 68]\n",
    "big_num = 0\n",
    "for number in numbers:\n",
    "    if number > big_num:\n",
    "        big_num = number\n",
    "    else:\n",
    "        big_num = big_num\n",
    "print(big_num)"
   ]
  },
  {
   "cell_type": "code",
   "execution_count": 3,
   "metadata": {},
   "outputs": [],
   "source": [
    "# for multiples in range(100):\n",
    "#     if multiples%5 == 0:\n",
    "#         print('multiple of 5:', multiples)"
   ]
  },
  {
   "cell_type": "code",
   "execution_count": 36,
   "metadata": {},
   "outputs": [
    {
     "data": {
      "text/plain": [
       "array([ 1,  5,  9, 13, 17, 21, 25, 29, 33, 37, 41, 45, 49, 53, 57, 61, 65,\n",
       "       69, 73, 77, 81, 85, 89, 93, 97])"
      ]
     },
     "execution_count": 36,
     "metadata": {},
     "output_type": "execute_result"
    }
   ],
   "source": [
    "import numpy as np\n",
    "nums = np.array(range(1, 101))\n",
    "idx = [0 + 4*i for i in range(25)]\n",
    "nums[idx]\n"
   ]
  },
  {
   "cell_type": "code",
   "execution_count": 1,
   "metadata": {},
   "outputs": [],
   "source": [
    "# nums = range(1, 101)\n",
    "# idx = [0 + 4*i for i in range(25)]\n",
    "# for ix in idx:\n",
    "#     print(nums[ix])"
   ]
  },
  {
   "cell_type": "code",
   "execution_count": 2,
   "metadata": {},
   "outputs": [],
   "source": [
    "# nums = range(1, 101)\n",
    "# nums\n",
    "# for fourth in nums:\n",
    "#     if nums[0] + 3:\n",
    "#         print(nums)"
   ]
  },
  {
   "cell_type": "markdown",
   "metadata": {},
   "source": [
    "`hello`\n",
    "\n",
    "**kathryne**\n",
    "*xiaohui*\n",
    "* owen\n",
    "* fei\n",
    "* kat\n",
    "* son\n",
    "* stuart"
   ]
  },
  {
   "cell_type": "code",
   "execution_count": 38,
   "metadata": {},
   "outputs": [
    {
     "name": "stdout",
     "output_type": "stream",
     "text": [
      "1\n",
      "[1]\n"
     ]
    }
   ],
   "source": [
    "nums = [2, 100, 5, 1, 5, 99]\n",
    "new = []\n",
    "x = 100000\n",
    "# sorted(nums)\n",
    "for numbers in nums:\n",
    "    if numbers < x:\n",
    "        x = numbers\n",
    "print(x)\n",
    "new.append(x)\n",
    "print(new)"
   ]
  },
  {
   "cell_type": "code",
   "execution_count": 15,
   "metadata": {},
   "outputs": [
    {
     "ename": "NameError",
     "evalue": "name 'function' is not defined",
     "output_type": "error",
     "traceback": [
      "\u001b[0;31m----------------------------------------------------------------------\u001b[0m",
      "\u001b[0;31mNameError\u001b[0m                            Traceback (most recent call last)",
      "\u001b[0;32m<ipython-input-15-58ad5fe74ee5>\u001b[0m in \u001b[0;36m<module>\u001b[0;34m\u001b[0m\n\u001b[0;32m----> 1\u001b[0;31m \u001b[0mfunction\u001b[0m\u001b[0;34m.\u001b[0m\u001b[0mint\u001b[0m\u001b[0;34m\u001b[0m\u001b[0;34m\u001b[0m\u001b[0m\n\u001b[0m\u001b[1;32m      2\u001b[0m \u001b[0;34m\u001b[0m\u001b[0m\n\u001b[1;32m      3\u001b[0m \u001b[0mtime\u001b[0m\u001b[0;34m.\u001b[0m\u001b[0msleep\u001b[0m\u001b[0;34m(\u001b[0m\u001b[0;36m9\u001b[0m\u001b[0;34m)\u001b[0m\u001b[0;34m\u001b[0m\u001b[0;34m\u001b[0m\u001b[0m\n\u001b[1;32m      4\u001b[0m \u001b[0mprint\u001b[0m\u001b[0;34m(\u001b[0m\u001b[0;34m'kathryneeeeeee'\u001b[0m\u001b[0;34m)\u001b[0m\u001b[0;34m\u001b[0m\u001b[0;34m\u001b[0m\u001b[0m\n\u001b[1;32m      5\u001b[0m \u001b[0mtime\u001b[0m\u001b[0;34m.\u001b[0m\u001b[0msleep\u001b[0m\u001b[0;34m(\u001b[0m\u001b[0;36m2\u001b[0m\u001b[0;34m)\u001b[0m\u001b[0;34m\u001b[0m\u001b[0;34m\u001b[0m\u001b[0m\n",
      "\u001b[0;31mNameError\u001b[0m: name 'function' is not defined"
     ]
    }
   ],
   "source": [
    "idk\n",
    "...\n",
    "time.sleep(5)\n",
    "print('kathryneeeeeee')\n",
    "time.sleep(3)\n",
    "print('im watching youuuuu')\n",
    "time.sleep(3)\n",
    "print('i see youuuuu')"
   ]
  },
  {
   "cell_type": "code",
   "execution_count": null,
   "metadata": {},
   "outputs": [],
   "source": [
    "nums = [2, 100, 5, 1, 5, 99]akdyg87aiushgiuashdviusldjhiuszfyviuhasg\n",
    "kszhudgiuhna,jsehgiuahrigjnhucihguhkah\n",
    "urkfor number in nums:\n",
    "    if number are very  big then ou have to be smart \n",
    "    "
   ]
  },
  {
   "cell_type": "code",
   "execution_count": 6,
   "metadata": {},
   "outputs": [
    {
     "data": {
      "text/plain": [
       "[100, 99, 50, 5, 1]"
      ]
     },
     "execution_count": 6,
     "metadata": {},
     "output_type": "execute_result"
    }
   ],
   "source": [
    "nums = [100, 99, 50, 5, 1]\n",
    "# nums[2] = 100000\n",
    "nums"
   ]
  },
  {
   "cell_type": "code",
   "execution_count": 83,
   "metadata": {},
   "outputs": [
    {
     "data": {
      "text/plain": [
       "[5, 100, 1, 5, 99]"
      ]
     },
     "execution_count": 83,
     "metadata": {},
     "output_type": "execute_result"
    },
    {
     "data": {
      "text/plain": [
       "[1, 100, 5, 5, 99]"
      ]
     },
     "execution_count": 83,
     "metadata": {},
     "output_type": "execute_result"
    },
    {
     "data": {
      "text/plain": [
       "[1, 5, 100, 5, 99]"
      ]
     },
     "execution_count": 83,
     "metadata": {},
     "output_type": "execute_result"
    },
    {
     "data": {
      "text/plain": [
       "[1, 5, 5, 100, 99]"
      ]
     },
     "execution_count": 83,
     "metadata": {},
     "output_type": "execute_result"
    },
    {
     "data": {
      "text/plain": [
       "[1, 5, 5, 99, 100]"
      ]
     },
     "execution_count": 83,
     "metadata": {},
     "output_type": "execute_result"
    }
   ],
   "source": [
    "[5, 100, 1, 5, 99]\n",
    "[1, 100, 5, 5, 99]\n",
    "[1, 5, 100, 5, 99]\n",
    "[1, 5, 5, 100, 99]\n",
    "[1, 5, 5, 99, 100]"
   ]
  },
  {
   "cell_type": "code",
   "execution_count": 9,
   "metadata": {},
   "outputs": [
    {
     "name": "stdout",
     "output_type": "stream",
     "text": [
      "0\n",
      "0\n",
      "before [100, 99, 50, 5, 1]\n",
      "after [99, 100, 50, 5, 1]\n",
      "1\n",
      "before [99, 100, 50, 5, 1]\n",
      "after [99, 50, 100, 5, 1]\n",
      "2\n",
      "before [99, 50, 100, 5, 1]\n",
      "after [99, 50, 5, 100, 1]\n",
      "3\n",
      "before [99, 50, 5, 100, 1]\n",
      "after [99, 50, 5, 1, 100]\n",
      "1\n",
      "0\n",
      "before [99, 50, 5, 1, 100]\n",
      "after [50, 99, 5, 1, 100]\n",
      "1\n",
      "before [50, 99, 5, 1, 100]\n",
      "after [50, 5, 99, 1, 100]\n",
      "2\n",
      "before [50, 5, 99, 1, 100]\n",
      "after [50, 5, 1, 99, 100]\n",
      "2\n",
      "0\n",
      "before [50, 5, 1, 99, 100]\n",
      "after [5, 50, 1, 99, 100]\n",
      "1\n",
      "before [5, 50, 1, 99, 100]\n",
      "after [5, 1, 50, 99, 100]\n",
      "3\n",
      "0\n",
      "before [5, 1, 50, 99, 100]\n",
      "after [1, 5, 50, 99, 100]\n"
     ]
    }
   ],
   "source": [
    "nums = [100, 99, 50, 5, 1]\n",
    "n = len(nums)\n",
    "# print('n', n)\n",
    "for i in range(n -1):\n",
    "    print(i)\n",
    "    for j in range(0, n-i-1):\n",
    "        print(j)\n",
    "#         print(i, j, nums[j], nums[j+1])\n",
    "        print('before', nums)\n",
    "        if nums[j] > nums[j+1] :\n",
    "                nums[j] , nums[j+1] = nums[j+1], nums[j]\n",
    "        print('after', nums)\n",
    "        \n"
   ]
  },
  {
   "cell_type": "code",
   "execution_count": null,
   "metadata": {},
   "outputs": [],
   "source": []
  },
  {
   "cell_type": "code",
   "execution_count": 8,
   "metadata": {},
   "outputs": [
    {
     "data": {
      "text/plain": [
       "[1, 2, 5, 5, 99, 100]"
      ]
     },
     "execution_count": 8,
     "metadata": {},
     "output_type": "execute_result"
    }
   ],
   "source": [
    "# Python program for implementation of Bubble Sort\n",
    "\n",
    "def bubbleSort(arr):\n",
    "    n = len(arr)\n",
    "  \n",
    "    # Traverse through all array elements\n",
    "    for i in range(n-1):\n",
    "    # range(n) also work but outer loop will repeat one time more than needed.\n",
    "  \n",
    "        # Last i elements are already in place\n",
    "        for j in range(0, n-i-1):\n",
    "  \n",
    "            # traverse the array from 0 to n-i-1\n",
    "            # Swap if the element found is greater\n",
    "            # than the next element\n",
    "            if arr[j] > arr[j+1] :\n",
    "                arr[j], arr[j+1] = arr[j+1], arr[j]\n",
    "    return arr\n",
    "\n",
    "# Driver code to test above\n",
    "nums = [2, 100, 5, 1, 5, 99]\n",
    "  \n",
    "bubbleSort(nums)\n"
   ]
  },
  {
   "cell_type": "code",
   "execution_count": 7,
   "metadata": {},
   "outputs": [
    {
     "name": "stdout",
     "output_type": "stream",
     "text": [
      "0 even\n",
      "1 odd\n",
      "2 even\n",
      "3 odd\n",
      "4 even\n",
      "5 odd\n"
     ]
    }
   ],
   "source": [
    "for nums in range (6):\n",
    "    if nums%2==0: \n",
    "        print (nums, 'even')\n",
    "    else:\n",
    "        print (nums, 'odd')"
   ]
  },
  {
   "cell_type": "code",
   "execution_count": 46,
   "metadata": {},
   "outputs": [
    {
     "name": "stdout",
     "output_type": "stream",
     "text": [
      "[100, 2, 5, 1, 5, 99]\n",
      "[2, 100, 5, 1, 5, 99]\n",
      "[2, 5, 100, 1, 5, 99]\n",
      "[1, 5, 100, 2, 5, 99]\n",
      "[1, 2, 100, 5, 5, 99]\n",
      "[1, 2, 5, 100, 5, 99]\n",
      "[1, 2, 5, 5, 100, 99]\n",
      "[1, 2, 5, 5, 99, 100]\n",
      "1 100\n"
     ]
    },
    {
     "data": {
      "text/plain": [
       "35.333333333333336"
      ]
     },
     "execution_count": 46,
     "metadata": {},
     "output_type": "execute_result"
    }
   ],
   "source": [
    "nums = [2, 100, 5, 1, 5, 99]\n",
    "# num_elements, max, min, mean\n",
    "for idx1 in range(6):\n",
    "    for idx2 in range(6):\n",
    "        if nums[idx1] < nums[idx2]:\n",
    "            nums[idx1], nums[idx2] = nums[idx2], nums[idx1]\n",
    "            print(nums)\n",
    "print(nums[0], nums[-1])\n",
    "\n",
    "total = sum(nums)\n",
    "x = len(nums)\n",
    "total/x"
   ]
  },
  {
   "cell_type": "code",
   "execution_count": null,
   "metadata": {},
   "outputs": [],
   "source": []
  }
 ],
 "metadata": {
  "kernelspec": {
   "display_name": "Python 3",
   "language": "python",
   "name": "python3"
  },
  "language_info": {
   "codemirror_mode": {
    "name": "ipython",
    "version": 3
   },
   "file_extension": ".py",
   "mimetype": "text/x-python",
   "name": "python",
   "nbconvert_exporter": "python",
   "pygments_lexer": "ipython3",
   "version": "3.7.1"
  }
 },
 "nbformat": 4,
 "nbformat_minor": 2
}
