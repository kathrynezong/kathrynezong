{
 "cells": [
  {
   "cell_type": "markdown",
   "id": "355edf5d",
   "metadata": {},
   "source": [
    "name your python virtual environment. what is the purpose of using python virtual environment instead of using a global python environment?"
   ]
  },
  {
   "cell_type": "code",
   "execution_count": null,
   "id": "319bef84",
   "metadata": {},
   "outputs": [],
   "source": []
  },
  {
   "cell_type": "markdown",
   "id": "1c9d2f0a",
   "metadata": {},
   "source": [
    "use conda to create a new python virtual environment, then activate the environment and check what libraries are installed in the environment"
   ]
  },
  {
   "cell_type": "code",
   "execution_count": null,
   "id": "3692abbf",
   "metadata": {},
   "outputs": [],
   "source": []
  },
  {
   "cell_type": "markdown",
   "id": "98ea002c",
   "metadata": {},
   "source": [
    "install a machine learning library (scikit-learn) to virtual environment. if it is already installed, uninstall first and then reinstall it."
   ]
  },
  {
   "cell_type": "code",
   "execution_count": null,
   "id": "34732f09",
   "metadata": {},
   "outputs": [],
   "source": []
  },
  {
   "cell_type": "markdown",
   "id": "361b5424",
   "metadata": {},
   "source": [
    "name and breifly explain the python data types you know of"
   ]
  },
  {
   "cell_type": "code",
   "execution_count": null,
   "id": "dc2d44bf",
   "metadata": {},
   "outputs": [],
   "source": []
  },
  {
   "cell_type": "markdown",
   "id": "a30165da",
   "metadata": {},
   "source": [
    "load a dataset from scikit-learn, read the dataset into a pandas dataframe"
   ]
  },
  {
   "cell_type": "code",
   "execution_count": null,
   "id": "bb72e7ed",
   "metadata": {},
   "outputs": [],
   "source": []
  },
  {
   "cell_type": "markdown",
   "id": "11d955ed",
   "metadata": {},
   "source": [
    "explain how you can subset a dataframe, for example how to get the 3rd to 5th columns and 10th row to 20th row"
   ]
  },
  {
   "cell_type": "code",
   "execution_count": null,
   "id": "57711846",
   "metadata": {},
   "outputs": [],
   "source": []
  },
  {
   "cell_type": "markdown",
   "id": "8a2c739a",
   "metadata": {},
   "source": [
    "in terminal, make a directory: test, and copy 1 file from a different direcotry into test direcotry, move a file from a differnet directory into test direcotry"
   ]
  }
 ],
 "metadata": {
  "kernelspec": {
   "display_name": "Python 3 (ipykernel)",
   "language": "python",
   "name": "python3"
  },
  "language_info": {
   "codemirror_mode": {
    "name": "ipython",
    "version": 3
   },
   "file_extension": ".py",
   "mimetype": "text/x-python",
   "name": "python",
   "nbconvert_exporter": "python",
   "pygments_lexer": "ipython3",
   "version": "3.8.1"
  }
 },
 "nbformat": 4,
 "nbformat_minor": 5
}
