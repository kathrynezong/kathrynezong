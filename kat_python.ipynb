{
 "cells": [
  {
   "cell_type": "code",
   "execution_count": 1,
   "metadata": {},
   "outputs": [],
   "source": [
    "from IPython.core.interactiveshell import InteractiveShell\n",
    "InteractiveShell.ast_node_interactivity = \"all\""
   ]
  },
  {
   "cell_type": "markdown",
   "metadata": {},
   "source": [
    "# Data Structures"
   ]
  },
  {
   "cell_type": "markdown",
   "metadata": {},
   "source": [
    "### Lists"
   ]
  },
  {
   "cell_type": "markdown",
   "metadata": {},
   "source": [
    "A list is defined using square brackets and holds data that is separated by commas. The list is mutable and ordered. It can contain a mix of different data types."
   ]
  },
  {
   "cell_type": "code",
   "execution_count": 2,
   "metadata": {},
   "outputs": [
    {
     "name": "stdout",
     "output_type": "stream",
     "text": [
      "january\n",
      "['january', 'february', 'march', 'april', 'may', 'june', 'july']\n",
      "['birthday', 'february', 'march', 'april', 'may', 'june', 'july', 'august', 'september', 'october', 'november', 'december']\n"
     ]
    }
   ],
   "source": [
    "months = ['january','february','march','april','may','june','july','august','september','october','november','december']\n",
    "print(months[0]) # print the elemment at index 0\n",
    "print(months[0:7]) # all the elements from index 0 to 6, does not including 7.\n",
    "months[0] = 'birthday' # exchange the value in index 0 with the word birthday\n",
    "print(months)"
   ]
  },
  {
   "cell_type": "code",
   "execution_count": 3,
   "metadata": {},
   "outputs": [
    {
     "name": "stdout",
     "output_type": "stream",
     "text": [
      "fish\n",
      "['cat', 'dog', 'rabbit', 'rock', 'fish']\n"
     ]
    }
   ],
   "source": [
    "animals = ['cat', 'dog', 'rabbit', 'frog', 'fish']\n",
    "print(animals[-1])\n",
    "animals[3] = 'rock'\n",
    "print(animals)"
   ]
  },
  {
   "cell_type": "code",
   "execution_count": 4,
   "metadata": {},
   "outputs": [
    {
     "name": "stdout",
     "output_type": "stream",
     "text": [
      "What\n",
      "is\n",
      "your\n",
      "favourite\n",
      "painting\n",
      "?\n",
      "Who-is-your-favourite-artist-?\n"
     ]
    }
   ],
   "source": [
    "# Join is a string method that takes a list of strings as an argument, \n",
    "# and returns a string consisting of the list elements joined by a separator string.\n",
    "\n",
    "first_str = \"\\n\".join([\"What\",\"is\",\"your\",\"favourite\",\"painting\",\"?\"])\n",
    "second_str = \"-\".join([\"Who\",\"is\",\"your\",\"favourite\",\"artist\",\"?\"])\n",
    "\n",
    "print(first_str)\n",
    "print(second_str)"
   ]
  },
  {
   "cell_type": "code",
   "execution_count": 5,
   "metadata": {
    "scrolled": true
   },
   "outputs": [
    {
     "name": "stdout",
     "output_type": "stream",
     "text": [
      "hello,^how^are^you^?\n"
     ]
    }
   ],
   "source": [
    "str = '^'.join(['hello,', 'how', 'are', 'you', '?'])\n",
    "print(str)"
   ]
  },
  {
   "cell_type": "code",
   "execution_count": 6,
   "metadata": {},
   "outputs": [
    {
     "name": "stdout",
     "output_type": "stream",
     "text": [
      "['Chagall', 'Kandinskij', 'Dalí', 'da Vinci', 'Picasso', 'Warhol', 'Basquiat']\n"
     ]
    }
   ],
   "source": [
    "artist = ['Chagall', 'Kandinskij', 'Dalí', 'da Vinci', 'Picasso', 'Warhol']\n",
    "\n",
    "artist.append('Basquiat') # append method permits us to add Basquiat in our list of artists\n",
    "print(artist)"
   ]
  },
  {
   "cell_type": "code",
   "execution_count": 7,
   "metadata": {},
   "outputs": [
    {
     "name": "stdout",
     "output_type": "stream",
     "text": [
      "['red', 'orange', 'yellow', 'green', 'blue', 'purple', 'pink', 'black']\n"
     ]
    }
   ],
   "source": [
    "colours = ['red', 'orange', 'yellow', 'green', 'blue', 'purple', 'pink']\n",
    "\n",
    "colours.append('black')\n",
    "print(colours)"
   ]
  },
  {
   "cell_type": "markdown",
   "metadata": {},
   "source": [
    "### Tuples"
   ]
  },
  {
   "cell_type": "markdown",
   "metadata": {},
   "source": [
    "A tuple is another container. It is a data type for immutable ordered sequences of elements. Immutable because you can’t add and remove elements from tuples, or sort them in place.\n"
   ]
  },
  {
   "cell_type": "code",
   "execution_count": 8,
   "metadata": {},
   "outputs": [
    {
     "name": "stdout",
     "output_type": "stream",
     "text": [
      "The dimensions are 7 x 3 x 1\n"
     ]
    }
   ],
   "source": [
    "length, width, height = 7, 3, 1 # we can assign multiple varibles in one shot\n",
    "print(\"The dimensions are {} x {} x {}\".format(length, width, height))"
   ]
  },
  {
   "cell_type": "code",
   "execution_count": 9,
   "metadata": {},
   "outputs": [
    {
     "name": "stdout",
     "output_type": "stream",
     "text": [
      "ages of kids are 15, 17, 13, 4\n"
     ]
    }
   ],
   "source": [
    "kat, son, fei, owen = 15, 17, 13, 4\n",
    "print('ages of kids are {}, {}, {}, {}'.format(kat, son, fei, owen))"
   ]
  },
  {
   "cell_type": "markdown",
   "metadata": {},
   "source": [
    "### Set"
   ]
  },
  {
   "cell_type": "markdown",
   "metadata": {},
   "source": [
    "Set is a mutable and unordered collection of unique elements. It can permit us to remove duplicate quickly from a list.\n"
   ]
  },
  {
   "cell_type": "code",
   "execution_count": 10,
   "metadata": {
    "scrolled": true
   },
   "outputs": [
    {
     "name": "stdout",
     "output_type": "stream",
     "text": [
      "{1, 2, 3, 5, 6}\n",
      "False\n",
      "True\n",
      "{'Kandinskij', 'Basquiat', 'Dalí', 'Warhol', 'Picasso', 'Chagall', 'Turner', 'da Vinci'}\n",
      "Kandinskij\n"
     ]
    }
   ],
   "source": [
    "numbers = [1, 2, 6, 3, 1, 1, 5] \n",
    "\n",
    "unique_nums = set(numbers)\n",
    "print(unique_nums)\n",
    "\n",
    "\n",
    "artist = {'Chagall', 'Kandinskij', 'Dalí', 'da Vinci', 'Picasso', 'Warhol', 'Basquiat'}\n",
    "\n",
    "print('Turner' in artist) # check if there is Turner in the set artist\n",
    "artist.add('Turner')\n",
    "print('Turner' in artist)\n",
    "\n",
    "print(artist)\n",
    "print(artist.pop()) #remove the last item"
   ]
  },
  {
   "cell_type": "code",
   "execution_count": 11,
   "metadata": {},
   "outputs": [
    {
     "name": "stdout",
     "output_type": "stream",
     "text": [
      "{1, 2, 4, 7, 9}\n"
     ]
    }
   ],
   "source": [
    "nums = [1, 2, 4, 7, 9, 4, 4, 1, 2]\n",
    "unique_nums = set(nums)\n",
    "print(unique_nums)"
   ]
  },
  {
   "cell_type": "code",
   "execution_count": 12,
   "metadata": {},
   "outputs": [
    {
     "name": "stdout",
     "output_type": "stream",
     "text": [
      "False\n",
      "{'cat', 'dog', 'turtle', 'bird', 'bunny', 'rat', 'mouse', 'fish'}\n",
      "True\n",
      "{'cat', 'dog', 'turtle', 'bird', 'bunny', 'rat', 'mouse', 'fish'}\n",
      "cat\n"
     ]
    }
   ],
   "source": [
    "animals = {'cat', 'dog', 'bunny', 'fish', 'rat', 'bird', 'turtle'}\n",
    "\n",
    "print('mouse' in animals)\n",
    "animals.add('mouse')\n",
    "print(animals)\n",
    "print('mouse' in animals)\n",
    "\n",
    "print(animals)\n",
    "print(animals.pop())"
   ]
  },
  {
   "cell_type": "markdown",
   "metadata": {},
   "source": [
    "### Dictionary"
   ]
  },
  {
   "cell_type": "markdown",
   "metadata": {},
   "source": [
    "Dictionary is a mutable and unordered data structure. It permits storing a pair of items (i.e. keys and values).\n",
    "As the example below shows, in the dictionary, it is possible to include containers into other containers to create compound data structures."
   ]
  },
  {
   "cell_type": "code",
   "execution_count": 13,
   "metadata": {},
   "outputs": [
    {
     "name": "stdout",
     "output_type": "stream",
     "text": [
      "In a Sentimental Mood\n",
      "Lacrimosa\n"
     ]
    }
   ],
   "source": [
    "#value of keys, jazz and classical, is another dictionary \n",
    "music = { 'jazz': {\"Coltrane\": \"In a Sentimental Mood\",\n",
    "                          \"M.Davis\":\"Blue in Green\" ,\n",
    "                          \"T.Monk\":\"Don't Blame Me\"},\n",
    "            \"classical\" : {\"Bach\": \"Cello Suit\",\n",
    "                        \"Mozart\": \"Lacrimosa\",\n",
    "                        \"Satie\": \"Gymnopédie\"}}\n",
    "\n",
    "print(music[\"jazz\"][\"Coltrane\"]) # we select the value of the key Coltrane\n",
    "print(music[\"classical\"][\"Mozart\"])"
   ]
  },
  {
   "cell_type": "code",
   "execution_count": 14,
   "metadata": {},
   "outputs": [
    {
     "name": "stdout",
     "output_type": "stream",
     "text": [
      "4\n"
     ]
    }
   ],
   "source": [
    "num_marbles = {'red': 4, 'blue' : 7, 'green': 2, 'yellow': 3}\n",
    "print(num_marbles['red'])"
   ]
  },
  {
   "cell_type": "markdown",
   "metadata": {},
   "source": [
    "# Operators"
   ]
  },
  {
   "cell_type": "markdown",
   "metadata": {},
   "source": [
    "### Relation Operators"
   ]
  },
  {
   "cell_type": "markdown",
   "metadata": {},
   "source": [
    "== equal True if expressions are equal\n",
    "\n",
    "!= not equal True if expressions are not equal\n",
    "\n",
    "< Greater than True if left is greater than the right\n",
    " \n",
    "< Less than True if left is less than the right\n",
    "\n",
    "<= greater than OR equal\n",
    "\n",
    ">= less than OR equal\n",
    "\n",
    "is: identity True if the left is the same object as right\n",
    "in: contains True if the object on left is contained in object on right (Useful for finding values in list)"
   ]
  },
  {
   "cell_type": "code",
   "execution_count": 15,
   "metadata": {},
   "outputs": [
    {
     "data": {
      "text/plain": [
       "True"
      ]
     },
     "execution_count": 15,
     "metadata": {},
     "output_type": "execute_result"
    }
   ],
   "source": [
    "A = 10 \n",
    "B = 10\n",
    "A == B"
   ]
  },
  {
   "cell_type": "code",
   "execution_count": 16,
   "metadata": {},
   "outputs": [
    {
     "data": {
      "text/plain": [
       "False"
      ]
     },
     "execution_count": 16,
     "metadata": {},
     "output_type": "execute_result"
    }
   ],
   "source": [
    "A = 'hello'\n",
    "B = 1\n",
    "A == B"
   ]
  },
  {
   "cell_type": "markdown",
   "metadata": {},
   "source": [
    "### Assignment Operators"
   ]
  },
  {
   "cell_type": "markdown",
   "metadata": {},
   "source": [
    "A += B increase A by value of B\n",
    "\n",
    "A -= B decrease A by value of B\n",
    "\n",
    "A *= B multiply A by B and assign value to A\n",
    "\n",
    "A /= B divide A by B and assign value to A\n",
    "\n",
    "A **=B raise value of A to the power of B\n",
    "\n",
    "A %= B modulus of A by B, assigned to A\n",
    "\n",
    "A //= B floor of A divided by B, assigned to A\n",
    "\n",
    "\n",
    "String context:\n",
    "\n",
    "S1 += S2 add string on right to the one on left\n",
    "\n",
    "S1 *= A Make A copies of S1 and concatenate them to S1 "
   ]
  },
  {
   "cell_type": "markdown",
   "metadata": {},
   "source": [
    "### Boolean Operators"
   ]
  },
  {
   "cell_type": "markdown",
   "metadata": {},
   "source": [
    "The Python Boolean type is one of Python's built-in data types. It's used to represent the truth value of an expression. For example, the expression 1 <= 2 is True , while the expression 0 == 1 is False . Understanding how Python Boolean values behave is important to programming well in Python."
   ]
  },
  {
   "cell_type": "code",
   "execution_count": 17,
   "metadata": {},
   "outputs": [
    {
     "data": {
      "text/plain": [
       "False"
      ]
     },
     "execution_count": 17,
     "metadata": {},
     "output_type": "execute_result"
    }
   ],
   "source": [
    "a=50\n",
    "b=25\n",
    "a>40 and b>40"
   ]
  },
  {
   "cell_type": "markdown",
   "metadata": {},
   "source": [
    "# If/elif/else Statements"
   ]
  },
  {
   "cell_type": "code",
   "execution_count": 18,
   "metadata": {},
   "outputs": [
    {
     "name": "stdout",
     "output_type": "stream",
     "text": [
      "same value\n"
     ]
    }
   ],
   "source": [
    "A = 40\n",
    "B = 40\n",
    "if A > B:\n",
    "    print('true')\n",
    "elif A == B:\n",
    "    print('same value')\n",
    "else:\n",
    "    print('false')"
   ]
  },
  {
   "cell_type": "markdown",
   "metadata": {},
   "source": [
    "# Loops"
   ]
  },
  {
   "cell_type": "markdown",
   "metadata": {},
   "source": [
    "A loop is a syntax structure that repeats all the statements within the loop until the exit\n",
    "condition is met. Statements in a loop are defined by indenting them relative to the loop start. Loop ends when indentation ends. Python has two forms of loops: for loop and while loop."
   ]
  },
  {
   "cell_type": "markdown",
   "metadata": {},
   "source": [
    "### While Loop"
   ]
  },
  {
   "cell_type": "markdown",
   "metadata": {},
   "source": [
    "A while loop is the most generic form of loop, that checks whether the condition is true at the start of each iteration. "
   ]
  },
  {
   "cell_type": "code",
   "execution_count": 19,
   "metadata": {},
   "outputs": [
    {
     "name": "stdout",
     "output_type": "stream",
     "text": [
      "1\n",
      "2\n",
      "3\n",
      "4\n",
      "5\n"
     ]
    }
   ],
   "source": [
    "A = 0\n",
    "while (A<5):\n",
    "    A += 1 \n",
    "    print(A)\n",
    "    "
   ]
  },
  {
   "cell_type": "markdown",
   "metadata": {},
   "source": [
    "### For Loops"
   ]
  },
  {
   "cell_type": "code",
   "execution_count": 20,
   "metadata": {},
   "outputs": [
    {
     "name": "stdout",
     "output_type": "stream",
     "text": [
      "[1, 9, 4, 5, 7, 4, 3, 2]\n",
      "[1, 4, 9, 5, 7, 4, 3, 2]\n",
      "[1, 4, 5, 9, 7, 4, 3, 2]\n",
      "[1, 4, 5, 7, 9, 4, 3, 2]\n",
      "[1, 4, 4, 7, 9, 5, 3, 2]\n",
      "[1, 4, 4, 5, 9, 7, 3, 2]\n",
      "[1, 4, 4, 5, 7, 9, 3, 2]\n",
      "[1, 3, 4, 5, 7, 9, 4, 2]\n",
      "[1, 3, 4, 4, 7, 9, 5, 2]\n",
      "[1, 3, 4, 4, 5, 9, 7, 2]\n",
      "[1, 3, 4, 4, 5, 7, 9, 2]\n",
      "[1, 2, 4, 4, 5, 7, 9, 3]\n",
      "[1, 2, 3, 4, 5, 7, 9, 4]\n",
      "[1, 2, 3, 4, 4, 7, 9, 5]\n",
      "[1, 2, 3, 4, 4, 5, 9, 7]\n",
      "[1, 2, 3, 4, 4, 5, 7, 9]\n"
     ]
    }
   ],
   "source": [
    "nums = [9, 1, 4, 5, 7, 4, 3, 2]\n",
    "l = len(nums)\n",
    "for idx in range (l-1):\n",
    "    for idx2 in range(7):\n",
    "        if nums[idx2] > nums[idx +1]:\n",
    "            nums[idx2], nums[idx+1] = nums[idx +1], nums[idx2]\n",
    "            print(nums)        "
   ]
  },
  {
   "cell_type": "code",
   "execution_count": 21,
   "metadata": {},
   "outputs": [
    {
     "name": "stdout",
     "output_type": "stream",
     "text": [
      "[1, 2, 3, 4, 4, 5, 7, 9]\n"
     ]
    }
   ],
   "source": [
    "nums = [9, 1, 4, 5, 7, 4, 3, 2]\n",
    "nums.sort()\n",
    "print(nums)"
   ]
  },
  {
   "cell_type": "markdown",
   "metadata": {},
   "source": [
    "# Algorithms"
   ]
  },
  {
   "cell_type": "markdown",
   "metadata": {},
   "source": [
    "### Bubble Sort"
   ]
  },
  {
   "cell_type": "code",
   "execution_count": 22,
   "metadata": {},
   "outputs": [
    {
     "name": "stdout",
     "output_type": "stream",
     "text": [
      "Sorted list is:  [1, 2, 3, 4, 5]\n"
     ]
    }
   ],
   "source": [
    "def bubble_sort(lst):\n",
    "    \"\"\"\n",
    "    Bubble sort function\n",
    "    :param lst: lst of unsorted integers\n",
    "    \"\"\"\n",
    "\n",
    "    # Traverse through all list elements\n",
    "    for i in range(len(lst)):\n",
    "\n",
    "        # Last i elements are already in place\n",
    "        for j in range(0, len(lst) - i - 1):\n",
    "\n",
    "            # Traverse the list from 0 to size of lst - i - 1\n",
    "            # Swap if the element found is greater than the next element\n",
    "            if lst[j] > lst[j + 1]:\n",
    "                lst[j], lst[j + 1] = lst[j + 1], lst[j]\n",
    "\n",
    "\n",
    "# Driver code to test above\n",
    "if __name__ == '__main__':\n",
    "\n",
    "    lst = [3, 2, 1, 5, 4]\n",
    "    bubble_sort(lst)  # Calling bubble sort function\n",
    "\n",
    "    print(\"Sorted list is: \", lst)"
   ]
  },
  {
   "cell_type": "code",
   "execution_count": 36,
   "metadata": {},
   "outputs": [
    {
     "name": "stdout",
     "output_type": "stream",
     "text": [
      "[1, 2, 3, 4, 5]\n"
     ]
    }
   ],
   "source": [
    "nums = [1, 2, 3, 4, 5]\n",
    "idx = len(nums) - 1\n",
    "\n",
    "def addition(nums):\n",
    "    for idx1 in range(idx):\n",
    "        for idx2 in range(idx + 1):\n",
    "            lst = idx1 + idx2\n",
    "        \n",
    "print(lst)\n",
    "        "
   ]
  },
  {
   "cell_type": "markdown",
   "metadata": {},
   "source": [
    "### finding max number"
   ]
  },
  {
   "cell_type": "code",
   "execution_count": 51,
   "metadata": {},
   "outputs": [
    {
     "name": "stdout",
     "output_type": "stream",
     "text": [
      "9\n"
     ]
    }
   ],
   "source": [
    "nums = [5, 8, 2, 5, 9]\n",
    "max = nums[0]\n",
    "for numbers in nums:\n",
    "    if numbers > max:\n",
    "        max = numbers\n",
    "print(max)"
   ]
  },
  {
   "cell_type": "markdown",
   "metadata": {},
   "source": [
    "### finding min number"
   ]
  },
  {
   "cell_type": "code",
   "execution_count": 55,
   "metadata": {},
   "outputs": [
    {
     "name": "stdout",
     "output_type": "stream",
     "text": [
      "2\n"
     ]
    }
   ],
   "source": [
    "n = [6, 9, 2, 132, 65, 76]\n",
    "min = n[0]\n",
    "for nums in n:\n",
    "    if nums < min:\n",
    "        min = nums\n",
    "print(min)"
   ]
  },
  {
   "cell_type": "code",
   "execution_count": null,
   "metadata": {},
   "outputs": [],
   "source": []
  },
  {
   "cell_type": "code",
   "execution_count": null,
   "metadata": {},
   "outputs": [],
   "source": []
  },
  {
   "cell_type": "code",
   "execution_count": null,
   "metadata": {},
   "outputs": [],
   "source": []
  },
  {
   "cell_type": "code",
   "execution_count": null,
   "metadata": {},
   "outputs": [],
   "source": []
  },
  {
   "cell_type": "code",
   "execution_count": null,
   "metadata": {},
   "outputs": [],
   "source": []
  },
  {
   "cell_type": "code",
   "execution_count": null,
   "metadata": {},
   "outputs": [],
   "source": []
  },
  {
   "cell_type": "code",
   "execution_count": null,
   "metadata": {},
   "outputs": [],
   "source": []
  },
  {
   "cell_type": "code",
   "execution_count": null,
   "metadata": {},
   "outputs": [],
   "source": []
  },
  {
   "cell_type": "code",
   "execution_count": null,
   "metadata": {},
   "outputs": [],
   "source": []
  },
  {
   "cell_type": "code",
   "execution_count": null,
   "metadata": {},
   "outputs": [],
   "source": []
  }
 ],
 "metadata": {
  "kernelspec": {
   "display_name": "Python 3 (ipykernel)",
   "language": "python",
   "name": "python3"
  },
  "language_info": {
   "codemirror_mode": {
    "name": "ipython",
    "version": 3
   },
   "file_extension": ".py",
   "mimetype": "text/x-python",
   "name": "python",
   "nbconvert_exporter": "python",
   "pygments_lexer": "ipython3",
   "version": "3.8.1"
  }
 },
 "nbformat": 4,
 "nbformat_minor": 2
}
